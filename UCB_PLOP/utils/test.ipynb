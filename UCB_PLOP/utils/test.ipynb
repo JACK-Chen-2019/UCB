{
 "cells": [
  {
   "cell_type": "code",
   "execution_count": 37,
   "metadata": {},
   "outputs": [],
   "source": [
    "s = '0.8659239,0.78506273,0.33387738,0.7208186,0.6169127,0.62897223,0.79996055,0.8078518,0.81841314,0.30048615,0.6028554,0.5704752,0.7629721,0.725358,0.7974917,0.6648809,0.052322686,0.49338886,0.11186603,0.36637107,0.18658575,0.572040319442749'\n"
   ]
  },
  {
   "cell_type": "code",
   "execution_count": 33,
   "metadata": {},
   "outputs": [],
   "source": [
    "import numpy as np\n",
    "\n",
    "a = np.array([float(i) for i in s.split(',')[:-1]])"
   ]
  },
  {
   "cell_type": "code",
   "execution_count": 36,
   "metadata": {},
   "outputs": [
    {
     "data": {
      "text/plain": [
       "0.5720403274285714"
      ]
     },
     "execution_count": 36,
     "metadata": {},
     "output_type": "execute_result"
    }
   ],
   "source": [
    "a[:].mean()"
   ]
  },
  {
   "cell_type": "code",
   "execution_count": 31,
   "metadata": {},
   "outputs": [
    {
     "data": {
      "text/plain": [
       "array([0.83630025, 0.18979962, 0.23834834, 0.41772333, 0.25794107,\n",
       "       0.44533688, 0.06462043, 0.45359442, 0.6834082 , 0.02934475,\n",
       "       0.32155946, 0.3118932 , 0.37273362, 0.30528387, 0.14079247,\n",
       "       0.78579575, 0.00966286, 0.20699914, 0.1602524 , 0.14873925,\n",
       "       0.19550917])"
      ]
     },
     "execution_count": 31,
     "metadata": {},
     "output_type": "execute_result"
    }
   ],
   "source": [
    "a"
   ]
  },
  {
   "cell_type": "code",
   "execution_count": null,
   "metadata": {},
   "outputs": [],
   "source": []
  }
 ],
 "metadata": {
  "kernelspec": {
   "display_name": "base",
   "language": "python",
   "name": "python3"
  },
  "language_info": {
   "codemirror_mode": {
    "name": "ipython",
    "version": 3
   },
   "file_extension": ".py",
   "mimetype": "text/x-python",
   "name": "python",
   "nbconvert_exporter": "python",
   "pygments_lexer": "ipython3",
   "version": "3.9.13"
  }
 },
 "nbformat": 4,
 "nbformat_minor": 2
}
